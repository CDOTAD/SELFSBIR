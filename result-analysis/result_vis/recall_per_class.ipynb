{
 "cells": [
  {
   "cell_type": "code",
   "execution_count": 1,
   "metadata": {},
   "outputs": [],
   "source": [
    "import os\n",
    "import pickle"
   ]
  },
  {
   "cell_type": "code",
   "execution_count": 2,
   "metadata": {},
   "outputs": [],
   "source": [
    "import numpy as np"
   ]
  },
  {
   "cell_type": "code",
   "execution_count": 3,
   "metadata": {},
   "outputs": [],
   "source": [
    "import matplotlib.pyplot as plt"
   ]
  },
  {
   "cell_type": "code",
   "execution_count": 3,
   "metadata": {},
   "outputs": [],
   "source": [
    "FEATURE_ROOT = '/home/zzl/project/selfSBIR/extracted_feature/canny200'"
   ]
  },
  {
   "cell_type": "code",
   "execution_count": 4,
   "metadata": {},
   "outputs": [],
   "source": [
    "PHOTO_FEATURE = os.path.join(FEATURE_ROOT, 'photo.pkl')\n",
    "SKETCH_FEATURE = os.path.join(FEATURE_ROOT, 'sketch.pkl')"
   ]
  },
  {
   "cell_type": "code",
   "execution_count": 5,
   "metadata": {},
   "outputs": [],
   "source": [
    "photo_data = pickle.load(open(PHOTO_FEATURE, 'rb'))"
   ]
  },
  {
   "cell_type": "code",
   "execution_count": 6,
   "metadata": {},
   "outputs": [],
   "source": [
    "sketch_data = pickle.load(open(SKETCH_FEATURE, 'rb'))"
   ]
  },
  {
   "cell_type": "code",
   "execution_count": 7,
   "metadata": {},
   "outputs": [],
   "source": [
    "photo_name, photo_feature = photo_data['name'], photo_data['feature']"
   ]
  },
  {
   "cell_type": "code",
   "execution_count": 8,
   "metadata": {},
   "outputs": [],
   "source": [
    "sketch_name, sketch_feature = sketch_data['name'], sketch_data['feature']"
   ]
  },
  {
   "cell_type": "code",
   "execution_count": 9,
   "metadata": {},
   "outputs": [],
   "source": [
    "def euclidean_distances(x, y, squared=True):\n",
    "    x_square = np.expand_dims(np.einsum('ij, ij->i', x, x), axis=1)\n",
    "    y_square = np.expand_dims(np.einsum('ij, ij->i', y, y), axis=0)\n",
    "\n",
    "    distances = np.dot(x, y.T)\n",
    "    distances *= -2\n",
    "    distances += x_square\n",
    "    distances += y_square\n",
    "    np.maximum(distances, 0, distances)\n",
    "    np.sqrt(distances, distances)\n",
    "    return distances"
   ]
  },
  {
   "cell_type": "code",
   "execution_count": 10,
   "metadata": {},
   "outputs": [],
   "source": [
    "def partition_arg_topK(matrix, K, axis=0):\n",
    "    a_part = np.argpartition(matrix, K, axis=axis)\n",
    "    if axis ==0 :\n",
    "        row_index = np.arange(matrix.shape[1-axis])\n",
    "        a_sec_argsort_K = np.argsort(matrix[a_part[0:K, :], row_index], axis=axis)\n",
    "        return a_part[0:K, :][a_sec_argsort_K, row_index]\n",
    "    else:\n",
    "        column_index = np.arange(matrix.shape[1-axis])[:, None]\n",
    "        a_sec_argsort_K = np.argsort(matrix[column_index, a_part[:, 0:K]], axis=axis)\n",
    "        return a_part[:, 0:K][column_index, a_sec_argsort_K]"
   ]
  },
  {
   "cell_type": "code",
   "execution_count": 11,
   "metadata": {},
   "outputs": [],
   "source": [
    "distances = euclidean_distances(sketch_feature, photo_feature)"
   ]
  },
  {
   "cell_type": "code",
   "execution_count": 12,
   "metadata": {},
   "outputs": [],
   "source": [
    "gt_list = []\n",
    "index = 0\n",
    "for i, s_name in enumerate(sketch_name):\n",
    "    query_name = s_name.split('/')[-1]\n",
    "    query_name = query_name.split('-')[0]\n",
    "    pk_name = photo_name[index]\n",
    "    p_name = pk_name.split('/')[-1]\n",
    "    p_name = p_name.split('.')[0]\n",
    "    if query_name != p_name:\n",
    "        index += 1\n",
    "    gt_list.append(index)"
   ]
  },
  {
   "cell_type": "code",
   "execution_count": 13,
   "metadata": {},
   "outputs": [],
   "source": [
    "test_item = len(gt_list)"
   ]
  },
  {
   "cell_type": "code",
   "execution_count": 14,
   "metadata": {},
   "outputs": [],
   "source": [
    "gt_list = np.asarray(gt_list)"
   ]
  },
  {
   "cell_type": "code",
   "execution_count": 15,
   "metadata": {},
   "outputs": [],
   "source": [
    "gt_list = np.reshape(gt_list, (test_item, 1))"
   ]
  },
  {
   "cell_type": "code",
   "execution_count": 16,
   "metadata": {},
   "outputs": [],
   "source": [
    "cls_list = []\n",
    "cls_name = dict()\n",
    "index = -1\n",
    "current_class = None\n",
    "for i, s_name in enumerate(sketch_name):\n",
    "    query_class = s_name.split('/')[0]\n",
    "    if current_class != query_class:\n",
    "        index += 1\n",
    "        current_class = query_class\n",
    "        cls_name[current_class] = index\n",
    "    cls_list.append(index)"
   ]
  },
  {
   "cell_type": "code",
   "execution_count": 17,
   "metadata": {},
   "outputs": [],
   "source": [
    "cls_list = np.asarray(cls_list)"
   ]
  },
  {
   "cell_type": "code",
   "execution_count": 18,
   "metadata": {},
   "outputs": [],
   "source": [
    "cls_count = dict()\n",
    "for i in range(125):\n",
    "    cls_count[i] = np.sum(cls_list==i)"
   ]
  },
  {
   "cell_type": "code",
   "execution_count": 19,
   "metadata": {},
   "outputs": [],
   "source": [
    "topK = partition_arg_topK(distances, 10, axis=1)"
   ]
  },
  {
   "cell_type": "code",
   "execution_count": 20,
   "metadata": {},
   "outputs": [],
   "source": [
    "recall_1 = topK[:, 0, None] == gt_list"
   ]
  },
  {
   "cell_type": "code",
   "execution_count": 21,
   "metadata": {},
   "outputs": [],
   "source": [
    "key_list = sorted(list(cls_name.keys()))"
   ]
  },
  {
   "cell_type": "code",
   "execution_count": 22,
   "metadata": {},
   "outputs": [],
   "source": [
    "total_items = 0\n",
    "recall_per_cls = dict()\n",
    "for k in key_list:\n",
    "    cls = cls_name[k]\n",
    "    item_count = cls_count[cls]\n",
    "    split_start = total_items\n",
    "    split_end = total_items+item_count\n",
    "    recall_per_cls[k] = np.sum(recall_1[split_start: split_end])/item_count\n",
    "    total_items = split_end\n",
    "    "
   ]
  },
  {
   "cell_type": "code",
   "execution_count": 23,
   "metadata": {},
   "outputs": [
    {
     "data": {
      "text/plain": [
       "{'airplane': 0.6029411764705882,\n",
       " 'alarm_clock': 0.5263157894736842,\n",
       " 'ant': 0.46153846153846156,\n",
       " 'ape': 0.75,\n",
       " 'apple': 0.4576271186440678,\n",
       " 'armor': 0.6229508196721312,\n",
       " 'axe': 0.40384615384615385,\n",
       " 'banana': 0.7017543859649122,\n",
       " 'bat': 0.4918032786885246,\n",
       " 'bear': 0.7164179104477612,\n",
       " 'bee': 0.6037735849056604,\n",
       " 'beetle': 0.6981132075471698,\n",
       " 'bell': 0.375,\n",
       " 'bench': 0.32075471698113206,\n",
       " 'bicycle': 0.41818181818181815,\n",
       " 'blimp': 0.55,\n",
       " 'bread': 0.6981132075471698,\n",
       " 'butterfly': 0.6909090909090909,\n",
       " 'cabin': 0.5740740740740741,\n",
       " 'camel': 0.7288135593220338,\n",
       " 'candle': 0.48148148148148145,\n",
       " 'cannon': 0.509090909090909,\n",
       " 'car_(sedan)': 0.625,\n",
       " 'castle': 0.5614035087719298,\n",
       " 'cat': 0.4375,\n",
       " 'chair': 0.7166666666666667,\n",
       " 'chicken': 0.6379310344827587,\n",
       " 'church': 0.6607142857142857,\n",
       " 'couch': 0.4482758620689655,\n",
       " 'cow': 0.59375,\n",
       " 'crab': 0.7735849056603774,\n",
       " 'crocodilian': 0.7272727272727273,\n",
       " 'cup': 0.3793103448275862,\n",
       " 'deer': 0.6785714285714286,\n",
       " 'dog': 0.5454545454545454,\n",
       " 'dolphin': 0.65625,\n",
       " 'door': 0.6379310344827587,\n",
       " 'duck': 0.46875,\n",
       " 'elephant': 0.5689655172413793,\n",
       " 'eyeglasses': 0.49019607843137253,\n",
       " 'fan': 0.37254901960784315,\n",
       " 'fish': 0.6078431372549019,\n",
       " 'flower': 0.29411764705882354,\n",
       " 'frog': 0.3448275862068966,\n",
       " 'geyser': 0.35714285714285715,\n",
       " 'giraffe': 0.711864406779661,\n",
       " 'guitar': 0.5272727272727272,\n",
       " 'hamburger': 0.40384615384615385,\n",
       " 'hammer': 0.5925925925925926,\n",
       " 'harp': 0.4,\n",
       " 'hat': 0.5849056603773585,\n",
       " 'hedgehog': 0.6833333333333333,\n",
       " 'helicopter': 0.6363636363636364,\n",
       " 'hermit_crab': 0.5272727272727272,\n",
       " 'horse': 0.4927536231884058,\n",
       " 'hot-air_balloon': 0.23076923076923078,\n",
       " 'hotdog': 0.5686274509803921,\n",
       " 'hourglass': 0.4074074074074074,\n",
       " 'jack-o-lantern': 0.7254901960784313,\n",
       " 'jellyfish': 0.6296296296296297,\n",
       " 'kangaroo': 0.6521739130434783,\n",
       " 'knife': 0.4339622641509434,\n",
       " 'lion': 0.6428571428571429,\n",
       " 'lizard': 0.6481481481481481,\n",
       " 'lobster': 0.5636363636363636,\n",
       " 'motorcycle': 0.46551724137931033,\n",
       " 'mouse': 0.6451612903225806,\n",
       " 'mushroom': 0.6923076923076923,\n",
       " 'owl': 0.6363636363636364,\n",
       " 'parrot': 0.6140350877192983,\n",
       " 'pear': 0.5357142857142857,\n",
       " 'penguin': 0.5849056603773585,\n",
       " 'piano': 0.6610169491525424,\n",
       " 'pickup_truck': 0.5,\n",
       " 'pig': 0.47619047619047616,\n",
       " 'pineapple': 0.4117647058823529,\n",
       " 'pistol': 0.6274509803921569,\n",
       " 'pizza': 0.39285714285714285,\n",
       " 'pretzel': 0.5,\n",
       " 'rabbit': 0.7796610169491526,\n",
       " 'raccoon': 0.582089552238806,\n",
       " 'racket': 0.5892857142857143,\n",
       " 'ray': 0.6851851851851852,\n",
       " 'rhinoceros': 0.43636363636363634,\n",
       " 'rifle': 0.5625,\n",
       " 'rocket': 0.4852941176470588,\n",
       " 'sailboat': 0.4117647058823529,\n",
       " 'saw': 0.48148148148148145,\n",
       " 'saxophone': 0.46153846153846156,\n",
       " 'scissors': 0.7678571428571429,\n",
       " 'scorpion': 0.6037735849056604,\n",
       " 'sea_turtle': 0.4909090909090909,\n",
       " 'seagull': 0.6379310344827587,\n",
       " 'seal': 0.6792452830188679,\n",
       " 'shark': 0.5555555555555556,\n",
       " 'sheep': 0.746031746031746,\n",
       " 'shoe': 0.5,\n",
       " 'skyscraper': 0.42592592592592593,\n",
       " 'snail': 0.6415094339622641,\n",
       " 'snake': 0.6481481481481481,\n",
       " 'songbird': 0.5471698113207547,\n",
       " 'spider': 0.4909090909090909,\n",
       " 'spoon': 0.46153846153846156,\n",
       " 'squirrel': 0.6935483870967742,\n",
       " 'starfish': 0.5849056603773585,\n",
       " 'strawberry': 0.6296296296296297,\n",
       " 'swan': 0.5789473684210527,\n",
       " 'sword': 0.5882352941176471,\n",
       " 'table': 0.5172413793103449,\n",
       " 'tank': 0.3508771929824561,\n",
       " 'teapot': 0.5614035087719298,\n",
       " 'teddy_bear': 0.34545454545454546,\n",
       " 'tiger': 0.5373134328358209,\n",
       " 'tree': 0.46153846153846156,\n",
       " 'trumpet': 0.3333333333333333,\n",
       " 'turtle': 0.7454545454545455,\n",
       " 'umbrella': 0.5185185185185185,\n",
       " 'violin': 0.3684210526315789,\n",
       " 'volcano': 0.34545454545454546,\n",
       " 'wading_bird': 0.7647058823529411,\n",
       " 'wheelchair': 0.3888888888888889,\n",
       " 'windmill': 0.5818181818181818,\n",
       " 'window': 0.48333333333333334,\n",
       " 'wine_bottle': 0.38461538461538464,\n",
       " 'zebra': 0.6440677966101694}"
      ]
     },
     "execution_count": 23,
     "metadata": {},
     "output_type": "execute_result"
    }
   ],
   "source": [
    "recall_per_cls"
   ]
  },
  {
   "cell_type": "code",
   "execution_count": 36,
   "metadata": {},
   "outputs": [
    {
     "data": {
      "text/plain": [
       "{'airplane': 0.5735294117647058,\n",
       " 'alarm_clock': 0.5087719298245614,\n",
       " 'ant': 0.5384615384615384,\n",
       " 'ape': 0.7,\n",
       " 'apple': 0.4576271186440678,\n",
       " 'armor': 0.6065573770491803,\n",
       " 'axe': 0.4230769230769231,\n",
       " 'banana': 0.7719298245614035,\n",
       " 'bat': 0.5409836065573771,\n",
       " 'bear': 0.6268656716417911,\n",
       " 'bee': 0.6226415094339622,\n",
       " 'beetle': 0.5849056603773585,\n",
       " 'bell': 0.4107142857142857,\n",
       " 'bench': 0.5094339622641509,\n",
       " 'bicycle': 0.38181818181818183,\n",
       " 'blimp': 0.55,\n",
       " 'bread': 0.660377358490566,\n",
       " 'butterfly': 0.6363636363636364,\n",
       " 'cabin': 0.6666666666666666,\n",
       " 'camel': 0.5932203389830508,\n",
       " 'candle': 0.5,\n",
       " 'cannon': 0.509090909090909,\n",
       " 'car_(sedan)': 0.5714285714285714,\n",
       " 'castle': 0.5614035087719298,\n",
       " 'cat': 0.546875,\n",
       " 'chair': 0.8,\n",
       " 'chicken': 0.7241379310344828,\n",
       " 'church': 0.6428571428571429,\n",
       " 'couch': 0.4482758620689655,\n",
       " 'cow': 0.75,\n",
       " 'crab': 0.5849056603773585,\n",
       " 'crocodilian': 0.7454545454545455,\n",
       " 'cup': 0.4482758620689655,\n",
       " 'deer': 0.6785714285714286,\n",
       " 'dog': 0.6363636363636364,\n",
       " 'dolphin': 0.671875,\n",
       " 'door': 0.603448275862069,\n",
       " 'duck': 0.4375,\n",
       " 'elephant': 0.5172413793103449,\n",
       " 'eyeglasses': 0.6274509803921569,\n",
       " 'fan': 0.49019607843137253,\n",
       " 'fish': 0.6470588235294118,\n",
       " 'flower': 0.45098039215686275,\n",
       " 'frog': 0.5172413793103449,\n",
       " 'geyser': 0.4107142857142857,\n",
       " 'giraffe': 0.6949152542372882,\n",
       " 'guitar': 0.4909090909090909,\n",
       " 'hamburger': 0.34615384615384615,\n",
       " 'hammer': 0.7037037037037037,\n",
       " 'harp': 0.35,\n",
       " 'hat': 0.6037735849056604,\n",
       " 'hedgehog': 0.6,\n",
       " 'helicopter': 0.5606060606060606,\n",
       " 'hermit_crab': 0.5636363636363636,\n",
       " 'horse': 0.6376811594202898,\n",
       " 'hot-air_balloon': 0.28846153846153844,\n",
       " 'hotdog': 0.5686274509803921,\n",
       " 'hourglass': 0.37037037037037035,\n",
       " 'jack-o-lantern': 0.7843137254901961,\n",
       " 'jellyfish': 0.6851851851851852,\n",
       " 'kangaroo': 0.7391304347826086,\n",
       " 'knife': 0.4339622641509434,\n",
       " 'lion': 0.7678571428571429,\n",
       " 'lizard': 0.5740740740740741,\n",
       " 'lobster': 0.41818181818181815,\n",
       " 'motorcycle': 0.39655172413793105,\n",
       " 'mouse': 0.5645161290322581,\n",
       " 'mushroom': 0.5769230769230769,\n",
       " 'owl': 0.7454545454545455,\n",
       " 'parrot': 0.5789473684210527,\n",
       " 'pear': 0.35714285714285715,\n",
       " 'penguin': 0.6037735849056604,\n",
       " 'piano': 0.6440677966101694,\n",
       " 'pickup_truck': 0.55,\n",
       " 'pig': 0.4603174603174603,\n",
       " 'pineapple': 0.49019607843137253,\n",
       " 'pistol': 0.7058823529411765,\n",
       " 'pizza': 0.35714285714285715,\n",
       " 'pretzel': 0.4107142857142857,\n",
       " 'rabbit': 0.7966101694915254,\n",
       " 'raccoon': 0.5522388059701493,\n",
       " 'racket': 0.5357142857142857,\n",
       " 'ray': 0.6111111111111112,\n",
       " 'rhinoceros': 0.43636363636363634,\n",
       " 'rifle': 0.59375,\n",
       " 'rocket': 0.5147058823529411,\n",
       " 'sailboat': 0.4117647058823529,\n",
       " 'saw': 0.4074074074074074,\n",
       " 'saxophone': 0.5769230769230769,\n",
       " 'scissors': 0.7857142857142857,\n",
       " 'scorpion': 0.5849056603773585,\n",
       " 'sea_turtle': 0.6545454545454545,\n",
       " 'seagull': 0.6379310344827587,\n",
       " 'seal': 0.6415094339622641,\n",
       " 'shark': 0.7222222222222222,\n",
       " 'sheep': 0.6190476190476191,\n",
       " 'shoe': 0.5,\n",
       " 'skyscraper': 0.5185185185185185,\n",
       " 'snail': 0.5283018867924528,\n",
       " 'snake': 0.6296296296296297,\n",
       " 'songbird': 0.5094339622641509,\n",
       " 'spider': 0.45454545454545453,\n",
       " 'spoon': 0.46153846153846156,\n",
       " 'squirrel': 0.6774193548387096,\n",
       " 'starfish': 0.7358490566037735,\n",
       " 'strawberry': 0.5555555555555556,\n",
       " 'swan': 0.6842105263157895,\n",
       " 'sword': 0.5882352941176471,\n",
       " 'table': 0.6206896551724138,\n",
       " 'tank': 0.42105263157894735,\n",
       " 'teapot': 0.5087719298245614,\n",
       " 'teddy_bear': 0.34545454545454546,\n",
       " 'tiger': 0.582089552238806,\n",
       " 'tree': 0.5769230769230769,\n",
       " 'trumpet': 0.37037037037037035,\n",
       " 'turtle': 0.7454545454545455,\n",
       " 'umbrella': 0.5370370370370371,\n",
       " 'violin': 0.3157894736842105,\n",
       " 'volcano': 0.36363636363636365,\n",
       " 'wading_bird': 0.7647058823529411,\n",
       " 'wheelchair': 0.4444444444444444,\n",
       " 'windmill': 0.6181818181818182,\n",
       " 'window': 0.5,\n",
       " 'wine_bottle': 0.36538461538461536,\n",
       " 'zebra': 0.5932203389830508}"
      ]
     },
     "execution_count": 36,
     "metadata": {},
     "output_type": "execute_result"
    }
   ],
   "source": [
    "recall_per_cls"
   ]
  },
  {
   "cell_type": "code",
   "execution_count": null,
   "metadata": {},
   "outputs": [],
   "source": []
  }
 ],
 "metadata": {
  "kernelspec": {
   "display_name": "Python 3",
   "language": "python",
   "name": "python3"
  },
  "language_info": {
   "codemirror_mode": {
    "name": "ipython",
    "version": 3
   },
   "file_extension": ".py",
   "mimetype": "text/x-python",
   "name": "python",
   "nbconvert_exporter": "python",
   "pygments_lexer": "ipython3",
   "version": "3.7.3"
  }
 },
 "nbformat": 4,
 "nbformat_minor": 2
}
