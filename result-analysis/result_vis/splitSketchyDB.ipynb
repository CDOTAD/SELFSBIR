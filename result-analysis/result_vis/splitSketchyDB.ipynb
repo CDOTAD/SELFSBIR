{
 "cells": [
  {
   "cell_type": "code",
   "execution_count": 1,
   "metadata": {},
   "outputs": [],
   "source": [
    "import os\n",
    "import shutil"
   ]
  },
  {
   "cell_type": "code",
   "execution_count": 2,
   "metadata": {},
   "outputs": [],
   "source": [
    "DATA_ROOT = '/data1/zzl/sketchy/'\n",
    "PHOTO_ROOT = '/data1/zzl/sketchy/256x256/photo/tx_000100000000/'\n",
    "SKETCH_ROOT = '/data1/zzl/sketchy/256x256/sketch/tx_000100000000/'"
   ]
  },
  {
   "cell_type": "code",
   "execution_count": 3,
   "metadata": {},
   "outputs": [],
   "source": [
    "info_root = os.path.join(DATA_ROOT, 'info')\n",
    "invalid_files = [os.path.join(info_root, f) for f in os.listdir(info_root) if f.startswith('invalid')]"
   ]
  },
  {
   "cell_type": "code",
   "execution_count": 4,
   "metadata": {},
   "outputs": [],
   "source": [
    "for file in invalid_files:\n",
    "    invalid_skts=[]\n",
    "    with open(file, 'r') as f:\n",
    "        invalid_skts += f.read().split('\\n')"
   ]
  },
  {
   "cell_type": "code",
   "execution_count": 15,
   "metadata": {},
   "outputs": [
    {
     "data": {
      "text/plain": [
       "['/data1/zzl/sketchy/info/invalid-pose.txt',\n",
       " '/data1/zzl/sketchy/info/invalid-error.txt',\n",
       " '/data1/zzl/sketchy/info/invalid-ambiguous.txt',\n",
       " '/data1/zzl/sketchy/info/invalid-context.txt']"
      ]
     },
     "execution_count": 15,
     "metadata": {},
     "output_type": "execute_result"
    }
   ],
   "source": [
    "invalid_files"
   ]
  },
  {
   "cell_type": "code",
   "execution_count": 6,
   "metadata": {},
   "outputs": [
    {
     "data": {
      "text/plain": [
       "1063"
      ]
     },
     "execution_count": 6,
     "metadata": {},
     "output_type": "execute_result"
    }
   ],
   "source": [
    "len(invalid_skts)"
   ]
  },
  {
   "cell_type": "code",
   "execution_count": 7,
   "metadata": {},
   "outputs": [],
   "source": [
    "invalid_skts = set(map(lambda x:x+'.png', invalid_skts))"
   ]
  },
  {
   "cell_type": "code",
   "execution_count": 8,
   "metadata": {},
   "outputs": [
    {
     "data": {
      "text/plain": [
       "1063"
      ]
     },
     "execution_count": 8,
     "metadata": {},
     "output_type": "execute_result"
    }
   ],
   "source": [
    "len(invalid_skts)"
   ]
  },
  {
   "cell_type": "code",
   "execution_count": 9,
   "metadata": {},
   "outputs": [],
   "source": [
    "testset = None"
   ]
  },
  {
   "cell_type": "code",
   "execution_count": 10,
   "metadata": {},
   "outputs": [],
   "source": [
    "with open(os.path.join(info_root, 'testset.txt'), 'r') as f:\n",
    "    testset = set(filter(lambda x:x, f.read().split('\\n')))"
   ]
  },
  {
   "cell_type": "code",
   "execution_count": 11,
   "metadata": {},
   "outputs": [
    {
     "data": {
      "text/plain": [
       "1250"
      ]
     },
     "execution_count": 11,
     "metadata": {},
     "output_type": "execute_result"
    }
   ],
   "source": [
    "len(testset)"
   ]
  },
  {
   "cell_type": "code",
   "execution_count": 13,
   "metadata": {},
   "outputs": [],
   "source": [
    "cnames = sorted(os.listdir(PHOTO_ROOT))"
   ]
  },
  {
   "cell_type": "code",
   "execution_count": 17,
   "metadata": {},
   "outputs": [],
   "source": [
    "PHOTO_TEST = '/data1/zzl/dataset/sketchydb_fix/photo-test/'\n",
    "PHOTO_TRAIN = '/data1/zzl/dataset/sketchydb_fix/photo-train/'\n",
    "SKETCH_TEST = '/data1/zzl/dataset/sketchydb_fix/sketch-test/'\n",
    "SKETCH_TRAIN = '/data1/zzl/dataset/sketchydb_fix/sketch-train/'"
   ]
  },
  {
   "cell_type": "code",
   "execution_count": 19,
   "metadata": {},
   "outputs": [],
   "source": [
    "import tqdm"
   ]
  },
  {
   "cell_type": "code",
   "execution_count": 25,
   "metadata": {},
   "outputs": [
    {
     "name": "stderr",
     "output_type": "stream",
     "text": [
      "\n",
      "  0%|          | 0/125 [00:00<?, ?it/s]\u001b[A\n",
      "  1%|          | 1/125 [00:06<14:20,  6.94s/it]\u001b[A\n",
      "  2%|▏         | 2/125 [00:17<16:09,  7.88s/it]\u001b[A\n",
      "  2%|▏         | 3/125 [00:23<15:15,  7.50s/it]\u001b[A\n",
      "  3%|▎         | 4/125 [00:31<15:25,  7.65s/it]\u001b[A\n",
      "  4%|▍         | 5/125 [00:41<16:50,  8.42s/it]\u001b[A\n",
      "  5%|▍         | 6/125 [01:16<32:27, 16.37s/it]\u001b[A\n",
      "  6%|▌         | 7/125 [01:29<29:49, 15.17s/it]\u001b[A\n",
      "  6%|▋         | 8/125 [01:30<21:20, 10.95s/it]\u001b[A\n",
      "  7%|▋         | 9/125 [01:31<15:28,  8.00s/it]\u001b[A\n",
      "  8%|▊         | 10/125 [01:32<11:11,  5.84s/it]\u001b[A\n",
      "  9%|▉         | 11/125 [01:43<14:12,  7.48s/it]\u001b[A\n",
      " 10%|▉         | 12/125 [02:06<22:54, 12.16s/it]\u001b[A\n",
      " 10%|█         | 13/125 [02:43<36:20, 19.47s/it]\u001b[A\n",
      " 11%|█         | 14/125 [03:33<53:12, 28.76s/it]\u001b[A\n",
      " 12%|█▏        | 15/125 [04:22<1:03:40, 34.73s/it]\u001b[A\n",
      " 13%|█▎        | 16/125 [04:25<45:47, 25.21s/it]  \u001b[A\n",
      " 14%|█▎        | 17/125 [04:26<32:17, 17.94s/it]\u001b[A\n",
      " 14%|█▍        | 18/125 [04:27<23:22, 13.11s/it]\u001b[A\n",
      " 15%|█▌        | 19/125 [04:41<23:08, 13.10s/it]\u001b[A\n",
      " 16%|█▌        | 20/125 [05:36<45:21, 25.92s/it]\u001b[A\n",
      " 17%|█▋        | 21/125 [05:51<39:15, 22.65s/it]\u001b[A\n",
      " 18%|█▊        | 22/125 [06:29<46:44, 27.23s/it]\u001b[A\n",
      " 18%|█▊        | 23/125 [07:04<50:08, 29.50s/it]\u001b[A\n",
      " 19%|█▉        | 24/125 [07:15<40:27, 24.03s/it]\u001b[A\n",
      " 20%|██        | 25/125 [07:16<28:30, 17.10s/it]\u001b[A\n",
      " 21%|██        | 26/125 [07:17<20:19, 12.32s/it]\u001b[A\n",
      " 22%|██▏       | 27/125 [07:26<18:01, 11.04s/it]\u001b[A\n",
      " 22%|██▏       | 28/125 [07:55<26:42, 16.52s/it]\u001b[A\n",
      " 23%|██▎       | 29/125 [08:05<23:17, 14.56s/it]\u001b[A\n",
      " 24%|██▍       | 30/125 [08:25<25:31, 16.12s/it]\u001b[A\n",
      " 25%|██▍       | 31/125 [09:29<47:46, 30.49s/it]\u001b[A\n",
      " 26%|██▌       | 32/125 [09:57<46:28, 29.98s/it]\u001b[A\n",
      " 26%|██▋       | 33/125 [09:59<32:41, 21.32s/it]\u001b[A\n",
      " 27%|██▋       | 34/125 [09:59<22:59, 15.16s/it]\u001b[A\n",
      " 28%|██▊       | 35/125 [10:01<16:37, 11.09s/it]\u001b[A\n",
      " 29%|██▉       | 36/125 [10:05<13:31,  9.11s/it]\u001b[A\n",
      " 30%|██▉       | 37/125 [10:06<09:49,  6.70s/it]\u001b[A\n",
      " 30%|███       | 38/125 [10:12<09:18,  6.42s/it]\u001b[A\n",
      " 31%|███       | 39/125 [10:15<07:24,  5.17s/it]\u001b[A\n",
      " 32%|███▏      | 40/125 [10:16<05:34,  3.93s/it]\u001b[A\n",
      " 33%|███▎      | 41/125 [10:17<04:38,  3.32s/it]\u001b[A\n",
      " 34%|███▎      | 42/125 [10:20<04:13,  3.05s/it]\u001b[A\n",
      " 34%|███▍      | 43/125 [10:21<03:26,  2.52s/it]\u001b[A\n",
      " 35%|███▌      | 44/125 [10:22<02:38,  1.95s/it]\u001b[A\n",
      " 36%|███▌      | 45/125 [10:22<02:00,  1.51s/it]\u001b[A\n",
      " 37%|███▋      | 46/125 [10:23<01:44,  1.32s/it]\u001b[A\n",
      " 38%|███▊      | 47/125 [10:24<01:22,  1.05s/it]\u001b[A\n",
      " 38%|███▊      | 48/125 [10:24<01:08,  1.12it/s]\u001b[A\n",
      " 39%|███▉      | 49/125 [10:25<00:59,  1.28it/s]\u001b[A\n",
      " 40%|████      | 50/125 [10:25<00:55,  1.34it/s]\u001b[A\n",
      " 41%|████      | 51/125 [10:26<00:48,  1.54it/s]\u001b[A\n",
      " 42%|████▏     | 52/125 [10:26<00:43,  1.68it/s]\u001b[A\n",
      " 42%|████▏     | 53/125 [10:27<00:40,  1.76it/s]\u001b[A\n",
      " 43%|████▎     | 54/125 [10:28<00:47,  1.49it/s]\u001b[A\n",
      " 44%|████▍     | 55/125 [10:28<00:46,  1.50it/s]\u001b[A\n",
      " 45%|████▍     | 56/125 [10:29<00:50,  1.37it/s]\u001b[A\n",
      " 46%|████▌     | 57/125 [10:30<00:48,  1.40it/s]\u001b[A\n",
      " 46%|████▋     | 58/125 [10:30<00:41,  1.62it/s]\u001b[A\n",
      " 47%|████▋     | 59/125 [10:31<00:38,  1.71it/s]\u001b[A\n",
      " 48%|████▊     | 60/125 [10:31<00:32,  1.99it/s]\u001b[A\n",
      " 49%|████▉     | 61/125 [10:32<00:34,  1.84it/s]\u001b[A\n",
      " 50%|████▉     | 62/125 [10:32<00:34,  1.80it/s]\u001b[A\n",
      " 50%|█████     | 63/125 [10:33<00:37,  1.65it/s]\u001b[A\n",
      " 51%|█████     | 64/125 [10:33<00:32,  1.85it/s]\u001b[A\n",
      " 52%|█████▏    | 65/125 [10:34<00:33,  1.77it/s]\u001b[A\n",
      " 53%|█████▎    | 66/125 [10:35<00:34,  1.69it/s]\u001b[A\n",
      " 54%|█████▎    | 67/125 [10:35<00:35,  1.65it/s]\u001b[A\n",
      " 54%|█████▍    | 68/125 [10:36<00:36,  1.56it/s]\u001b[A\n",
      " 55%|█████▌    | 69/125 [10:37<00:38,  1.46it/s]\u001b[A\n",
      " 56%|█████▌    | 70/125 [10:37<00:34,  1.59it/s]\u001b[A\n",
      " 57%|█████▋    | 71/125 [10:38<00:35,  1.51it/s]\u001b[A\n",
      " 58%|█████▊    | 72/125 [10:38<00:32,  1.63it/s]\u001b[A\n",
      " 58%|█████▊    | 73/125 [10:39<00:32,  1.60it/s]\u001b[A\n",
      " 59%|█████▉    | 74/125 [10:40<00:30,  1.69it/s]\u001b[A\n",
      " 60%|██████    | 75/125 [10:40<00:28,  1.76it/s]\u001b[A\n",
      " 61%|██████    | 76/125 [10:41<00:27,  1.80it/s]\u001b[A\n",
      " 62%|██████▏   | 77/125 [10:41<00:26,  1.78it/s]\u001b[A\n",
      " 62%|██████▏   | 78/125 [10:42<00:28,  1.64it/s]\u001b[A\n",
      " 63%|██████▎   | 79/125 [10:43<00:28,  1.59it/s]\u001b[A\n",
      " 64%|██████▍   | 80/125 [10:43<00:28,  1.60it/s]\u001b[A\n",
      " 65%|██████▍   | 81/125 [10:44<00:28,  1.52it/s]\u001b[A\n",
      " 66%|██████▌   | 82/125 [10:44<00:25,  1.66it/s]\u001b[A\n",
      " 66%|██████▋   | 83/125 [10:45<00:30,  1.39it/s]\u001b[A\n",
      " 67%|██████▋   | 84/125 [10:46<00:25,  1.59it/s]\u001b[A\n",
      " 68%|██████▊   | 85/125 [10:46<00:24,  1.60it/s]\u001b[A\n",
      " 69%|██████▉   | 86/125 [10:47<00:22,  1.75it/s]\u001b[A\n",
      " 70%|██████▉   | 87/125 [10:48<00:23,  1.64it/s]\u001b[A\n",
      " 70%|███████   | 88/125 [10:48<00:18,  1.96it/s]\u001b[A\n",
      " 71%|███████   | 89/125 [10:48<00:16,  2.14it/s]\u001b[A\n",
      " 72%|███████▏  | 90/125 [10:49<00:15,  2.24it/s]\u001b[A\n",
      " 73%|███████▎  | 91/125 [10:49<00:14,  2.28it/s]\u001b[A\n",
      " 74%|███████▎  | 92/125 [10:50<00:16,  2.05it/s]\u001b[A\n",
      " 74%|███████▍  | 93/125 [10:50<00:17,  1.82it/s]\u001b[A\n",
      " 75%|███████▌  | 94/125 [10:51<00:14,  2.09it/s]\u001b[A\n",
      " 76%|███████▌  | 95/125 [10:51<00:15,  1.93it/s]\u001b[A\n",
      " 77%|███████▋  | 96/125 [10:52<00:14,  2.00it/s]\u001b[A\n",
      " 78%|███████▊  | 97/125 [10:52<00:14,  1.98it/s]\u001b[A\n",
      " 78%|███████▊  | 98/125 [10:53<00:13,  1.95it/s]\u001b[A\n",
      " 79%|███████▉  | 99/125 [10:53<00:13,  1.93it/s]\u001b[A\n",
      " 80%|████████  | 100/125 [10:54<00:13,  1.87it/s]\u001b[A\n",
      " 81%|████████  | 101/125 [10:54<00:12,  1.99it/s]\u001b[A\n",
      " 82%|████████▏ | 102/125 [10:55<00:12,  1.90it/s]\u001b[A\n",
      " 82%|████████▏ | 103/125 [10:55<00:10,  2.04it/s]\u001b[A\n",
      " 83%|████████▎ | 104/125 [10:56<00:12,  1.74it/s]\u001b[A\n",
      " 84%|████████▍ | 105/125 [10:57<00:11,  1.77it/s]\u001b[A\n",
      " 85%|████████▍ | 106/125 [10:57<00:10,  1.78it/s]\u001b[A\n",
      " 86%|████████▌ | 107/125 [10:58<00:10,  1.80it/s]\u001b[A\n",
      " 86%|████████▋ | 108/125 [10:58<00:08,  1.93it/s]\u001b[A\n",
      " 87%|████████▋ | 109/125 [10:59<00:07,  2.08it/s]\u001b[A\n",
      " 88%|████████▊ | 110/125 [10:59<00:07,  1.99it/s]\u001b[A\n",
      " 89%|████████▉ | 111/125 [11:00<00:06,  2.03it/s]\u001b[A\n",
      " 90%|████████▉ | 112/125 [11:00<00:06,  2.13it/s]\u001b[A\n",
      " 90%|█████████ | 113/125 [11:01<00:06,  1.82it/s]\u001b[A\n",
      " 91%|█████████ | 114/125 [11:01<00:06,  1.73it/s]\u001b[A\n",
      " 92%|█████████▏| 115/125 [11:02<00:05,  1.76it/s]\u001b[A\n",
      " 93%|█████████▎| 116/125 [11:03<00:05,  1.68it/s]\u001b[A\n",
      " 94%|█████████▎| 117/125 [11:03<00:04,  1.72it/s]\u001b[A\n",
      " 94%|█████████▍| 118/125 [11:04<00:03,  1.85it/s]\u001b[A\n",
      " 95%|█████████▌| 119/125 [11:04<00:03,  1.77it/s]\u001b[A\n",
      " 96%|█████████▌| 120/125 [11:05<00:02,  1.83it/s]\u001b[A\n",
      " 97%|█████████▋| 121/125 [11:05<00:02,  1.95it/s]\u001b[A\n",
      " 98%|█████████▊| 122/125 [11:06<00:01,  2.03it/s]\u001b[A\n",
      " 98%|█████████▊| 123/125 [11:06<00:00,  2.09it/s]\u001b[A\n",
      " 99%|█████████▉| 124/125 [11:06<00:00,  2.14it/s]\u001b[A\n",
      "100%|██████████| 125/125 [11:07<00:00,  1.93it/s]\u001b[A"
     ]
    }
   ],
   "source": [
    "cnt_test = 0\n",
    "cnt_train = 0\n",
    "for cname in tqdm.tqdm(cnames):\n",
    "    photos = sorted(os.listdir(os.path.join(PHOTO_ROOT, cname)))\n",
    "    for photo_name in photos:\n",
    "        p_name = photo_name.split('.')[0]\n",
    "        skts = [fns for fns in os.listdir(os.path.join(SKETCH_ROOT, cname)) if fns.split('-')[0] == p_name]\n",
    "        p_test_src = os.path.join(PHOTO_ROOT, cname, photo_name)\n",
    "        if cname+'/'+photo_name in testset:\n",
    "            p_test_class = os.path.join(PHOTO_TEST, cname)\n",
    "            if not os.path.exists(p_test_class):\n",
    "                os.mkdir(p_test_class)\n",
    "            p_test_dict = os.path.join(p_test_class, photo_name)\n",
    "            shutil.copy(p_test_src, p_test_dict)\n",
    "            for skt in skts:\n",
    "                cnt_test += 1\n",
    "                s_test_src = os.path.join(SKETCH_ROOT, cname, skt)\n",
    "                s_test_class = os.path.join(SKETCH_TEST, cname)\n",
    "                if not os.path.exists(s_test_class):\n",
    "                    os.mkdir(s_test_class)\n",
    "                s_test_dict = os.path.join(s_test_class, skt)\n",
    "                shutil.copy(s_test_src, s_test_dict)\n",
    "        else:\n",
    "            p_train_class = os.path.join(PHOTO_TRAIN, cname)\n",
    "            if not os.path.exists(p_train_class):\n",
    "                os.mkdir(p_train_class)\n",
    "            p_train_dict = os.path.join(p_train_class, photo_name)\n",
    "            shutil.copy(p_test_src, p_train_dict)\n",
    "            for skt in skts:\n",
    "                cnt_train += 1\n",
    "                s_train_src = os.path.join(SKETCH_ROOT, cname, skt)\n",
    "                s_train_class = os.path.join(SKETCH_TRAIN, cname)\n",
    "                if not os.path.exists(s_train_class):\n",
    "                    os.mkdir(s_train_class)\n",
    "                s_train_dict = os.path.join(s_train_class, skt)\n",
    "                shutil.copy(s_train_src, s_train_dict)"
   ]
  },
  {
   "cell_type": "code",
   "execution_count": 26,
   "metadata": {},
   "outputs": [
    {
     "data": {
      "text/plain": [
       "7063"
      ]
     },
     "execution_count": 26,
     "metadata": {},
     "output_type": "execute_result"
    }
   ],
   "source": [
    "cnt_test"
   ]
  },
  {
   "cell_type": "code",
   "execution_count": 27,
   "metadata": {},
   "outputs": [
    {
     "data": {
      "text/plain": [
       "68418"
      ]
     },
     "execution_count": 27,
     "metadata": {},
     "output_type": "execute_result"
    }
   ],
   "source": [
    "cnt_train"
   ]
  },
  {
   "cell_type": "code",
   "execution_count": 24,
   "metadata": {},
   "outputs": [
    {
     "data": {
      "text/plain": [
       "1063"
      ]
     },
     "execution_count": 24,
     "metadata": {},
     "output_type": "execute_result"
    }
   ],
   "source": [
    "len(invalid_skts)"
   ]
  },
  {
   "cell_type": "code",
   "execution_count": 28,
   "metadata": {},
   "outputs": [],
   "source": [
    "cnt = 0\n",
    "for cname in cnames:\n",
    "    cnt += len(os.listdir(os.path.join(PHOTO_TRAIN, cname)))"
   ]
  },
  {
   "cell_type": "code",
   "execution_count": 29,
   "metadata": {},
   "outputs": [
    {
     "data": {
      "text/plain": [
       "11250"
      ]
     },
     "execution_count": 29,
     "metadata": {},
     "output_type": "execute_result"
    }
   ],
   "source": [
    "cnt"
   ]
  },
  {
   "cell_type": "code",
   "execution_count": 30,
   "metadata": {},
   "outputs": [
    {
     "data": {
      "text/plain": [
       "125.0"
      ]
     },
     "execution_count": 30,
     "metadata": {},
     "output_type": "execute_result"
    }
   ],
   "source": [
    "11250/90"
   ]
  },
  {
   "cell_type": "code",
   "execution_count": 31,
   "metadata": {},
   "outputs": [],
   "source": [
    "import pandas as pd"
   ]
  },
  {
   "cell_type": "code",
   "execution_count": 32,
   "metadata": {},
   "outputs": [],
   "source": [
    "train_set = pd.read_csv('/data1/zzl/sketchy/info/trainset.csv', header=None)"
   ]
  },
  {
   "cell_type": "code",
   "execution_count": 34,
   "metadata": {},
   "outputs": [],
   "source": [
    "train_set_name = list(train_set[2])"
   ]
  },
  {
   "cell_type": "code",
   "execution_count": 36,
   "metadata": {},
   "outputs": [],
   "source": [
    "train_set_name = set([t_name+'.jpg' for t_name in train_set_name])"
   ]
  },
  {
   "cell_type": "code",
   "execution_count": 37,
   "metadata": {},
   "outputs": [
    {
     "data": {
      "text/plain": [
       "11340"
      ]
     },
     "execution_count": 37,
     "metadata": {},
     "output_type": "execute_result"
    }
   ],
   "source": [
    "len(train_set_name)"
   ]
  },
  {
   "cell_type": "code",
   "execution_count": 39,
   "metadata": {},
   "outputs": [],
   "source": [
    "train_orginal_set = []\n",
    "for cname in cnames:\n",
    "    train_orginal_set += os.listdir(os.path.join(PHOTO_TRAIN, cname))"
   ]
  },
  {
   "cell_type": "code",
   "execution_count": 40,
   "metadata": {},
   "outputs": [
    {
     "data": {
      "text/plain": [
       "11250"
      ]
     },
     "execution_count": 40,
     "metadata": {},
     "output_type": "execute_result"
    }
   ],
   "source": [
    "len(train_orginal_set)"
   ]
  },
  {
   "cell_type": "code",
   "execution_count": 41,
   "metadata": {},
   "outputs": [
    {
     "name": "stdout",
     "output_type": "stream",
     "text": [
      "n04591713_832.jpg\n",
      "n02012849_6464.jpg\n",
      "n03930630_5501.jpg\n",
      "n02694662_7072.jpg\n",
      "n03930630_19067.jpg\n",
      "n04399382_34023.jpg\n",
      "n02958343_53735.jpg\n",
      "n01664065_4349.jpg\n",
      "n02958343_8028.jpg\n",
      "n03930630_2599.jpg\n",
      "n01986214_4221.jpg\n",
      "n04591713_1793.jpg\n",
      "n01986214_6402.jpg\n",
      "n02007558_11607.jpg\n",
      "n02958343_1653.jpg\n",
      "n03930630_1428.jpg\n",
      "n02007558_723.jpg\n",
      "n01986214_5341.jpg\n",
      "n04591713_2049.jpg\n",
      "n02958343_12509.jpg\n",
      "n02012849_3724.jpg\n",
      "n02694662_13497.jpg\n",
      "n02009912_8374.jpg\n",
      "n01663401_11120.jpg\n",
      "n04166281_14544.jpg\n",
      "n02000954_15917.jpg\n",
      "n01664065_13000.jpg\n",
      "n02958343_9022.jpg\n",
      "n03930630_7360.jpg\n",
      "n03930630_11618.jpg\n",
      "n02694662_14927.jpg\n",
      "n01663401_1069.jpg\n",
      "n04399382_22942.jpg\n",
      "n03930630_19736.jpg\n",
      "n02009912_13930.jpg\n",
      "n04399382_1604.jpg\n",
      "n04399382_34899.jpg\n",
      "n04399382_35647.jpg\n",
      "n04591713_5535.jpg\n",
      "n04591713_6022.jpg\n",
      "n01986214_92.jpg\n",
      "n03541923_2670.jpg\n",
      "n03930630_9324.jpg\n",
      "n02007558_6882.jpg\n",
      "n03541923_4237.jpg\n",
      "n02009912_2366.jpg\n",
      "n01663401_1997.jpg\n",
      "n02782093_635.jpg\n",
      "n02958343_5640.jpg\n",
      "n02958343_4750.jpg\n",
      "n04591713_4054.jpg\n",
      "n02694662_12296.jpg\n",
      "n01986214_5001.jpg\n",
      "n03541923_4174.jpg\n",
      "n01986214_10300.jpg\n",
      "n02694662_4274.jpg\n",
      "n02782093_5365.jpg\n",
      "n01986214_24017.jpg\n",
      "n01986214_11647.jpg\n",
      "n02782093_622.jpg\n",
      "n03541923_1341.jpg\n",
      "n03930630_9882.jpg\n",
      "n04591713_5040.jpg\n",
      "n02782093_1370.jpg\n",
      "n04399382_10349.jpg\n",
      "n04399382_1099.jpg\n",
      "n01986214_3659.jpg\n",
      "n02694662_1467.jpg\n",
      "n04591713_5524.jpg\n",
      "n04399382_5252.jpg\n",
      "n01663401_3543.jpg\n",
      "n01664065_15939.jpg\n",
      "n02782093_6600.jpg\n",
      "n04591713_4059.jpg\n",
      "n02694662_1564.jpg\n",
      "n02694662_4273.jpg\n",
      "n02694662_6976.jpg\n",
      "n01986214_11695.jpg\n",
      "n01663401_2478.jpg\n",
      "n04399382_7409.jpg\n",
      "n04591713_1257.jpg\n",
      "n03930630_1873.jpg\n",
      "n04166281_5904.jpg\n",
      "n04399382_24574.jpg\n",
      "n02009912_11963.jpg\n",
      "n01664065_4095.jpg\n",
      "n02958343_5353.jpg\n",
      "n03541923_622.jpg\n",
      "n02694662_16632.jpg\n",
      "n01664065_16003.jpg\n"
     ]
    }
   ],
   "source": [
    "for t_name in train_set_name:\n",
    "    if t_name not in train_orginal_set:\n",
    "        print(t_name)"
   ]
  },
  {
   "cell_type": "code",
   "execution_count": 43,
   "metadata": {},
   "outputs": [],
   "source": [
    "test_set = []\n",
    "for cname in cnames:\n",
    "    test_set += os.listdir(os.path.join(PHOTO_TEST, cname))"
   ]
  },
  {
   "cell_type": "code",
   "execution_count": 45,
   "metadata": {},
   "outputs": [
    {
     "name": "stdout",
     "output_type": "stream",
     "text": [
      "n04591713_832.jpg\n",
      "n02012849_6464.jpg\n",
      "n03930630_5501.jpg\n",
      "n02694662_7072.jpg\n",
      "n03930630_19067.jpg\n",
      "n04399382_34023.jpg\n",
      "n02958343_53735.jpg\n",
      "n01664065_4349.jpg\n",
      "n02958343_8028.jpg\n",
      "n03930630_2599.jpg\n",
      "n01986214_4221.jpg\n",
      "n04591713_1793.jpg\n",
      "n01986214_6402.jpg\n",
      "n02007558_11607.jpg\n",
      "n02958343_1653.jpg\n",
      "n03930630_1428.jpg\n",
      "n02007558_723.jpg\n",
      "n01986214_5341.jpg\n",
      "n04591713_2049.jpg\n",
      "n02958343_12509.jpg\n",
      "n02012849_3724.jpg\n",
      "n02694662_13497.jpg\n",
      "n02009912_8374.jpg\n",
      "n01663401_11120.jpg\n",
      "n04166281_14544.jpg\n",
      "n02000954_15917.jpg\n",
      "n01664065_13000.jpg\n",
      "n02958343_9022.jpg\n",
      "n03930630_7360.jpg\n",
      "n03930630_11618.jpg\n",
      "n02694662_14927.jpg\n",
      "n01663401_1069.jpg\n",
      "n04399382_22942.jpg\n",
      "n03930630_19736.jpg\n",
      "n02009912_13930.jpg\n",
      "n04399382_1604.jpg\n",
      "n04399382_34899.jpg\n",
      "n04399382_35647.jpg\n",
      "n04591713_5535.jpg\n",
      "n04591713_6022.jpg\n",
      "n01986214_92.jpg\n",
      "n03541923_2670.jpg\n",
      "n03930630_9324.jpg\n",
      "n02007558_6882.jpg\n",
      "n03541923_4237.jpg\n",
      "n02009912_2366.jpg\n",
      "n01663401_1997.jpg\n",
      "n02782093_635.jpg\n",
      "n02958343_5640.jpg\n",
      "n02958343_4750.jpg\n",
      "n04591713_4054.jpg\n",
      "n02694662_12296.jpg\n",
      "n01986214_5001.jpg\n",
      "n03541923_4174.jpg\n",
      "n01986214_10300.jpg\n",
      "n02694662_4274.jpg\n",
      "n02782093_5365.jpg\n",
      "n01986214_24017.jpg\n",
      "n01986214_11647.jpg\n",
      "n02782093_622.jpg\n",
      "n03541923_1341.jpg\n",
      "n03930630_9882.jpg\n",
      "n04591713_5040.jpg\n",
      "n02782093_1370.jpg\n",
      "n04399382_10349.jpg\n",
      "n04399382_1099.jpg\n",
      "n01986214_3659.jpg\n",
      "n02694662_1467.jpg\n",
      "n04591713_5524.jpg\n",
      "n04399382_5252.jpg\n",
      "n01663401_3543.jpg\n",
      "n01664065_15939.jpg\n",
      "n02782093_6600.jpg\n",
      "n04591713_4059.jpg\n",
      "n02694662_1564.jpg\n",
      "n02694662_4273.jpg\n",
      "n02694662_6976.jpg\n",
      "n01986214_11695.jpg\n",
      "n01663401_2478.jpg\n",
      "n04399382_7409.jpg\n",
      "n04591713_1257.jpg\n",
      "n03930630_1873.jpg\n",
      "n04166281_5904.jpg\n",
      "n04399382_24574.jpg\n",
      "n02009912_11963.jpg\n",
      "n01664065_4095.jpg\n",
      "n02958343_5353.jpg\n",
      "n03541923_622.jpg\n",
      "n02694662_16632.jpg\n",
      "n01664065_16003.jpg\n"
     ]
    }
   ],
   "source": [
    "for t_name in train_set_name:\n",
    "    if t_name in test_set:\n",
    "        print(t_name)"
   ]
  },
  {
   "cell_type": "code",
   "execution_count": null,
   "metadata": {},
   "outputs": [],
   "source": []
  }
 ],
 "metadata": {
  "kernelspec": {
   "display_name": "Python 3",
   "language": "python",
   "name": "python3"
  },
  "language_info": {
   "codemirror_mode": {
    "name": "ipython",
    "version": 3
   },
   "file_extension": ".py",
   "mimetype": "text/x-python",
   "name": "python",
   "nbconvert_exporter": "python",
   "pygments_lexer": "ipython3",
   "version": "3.7.3"
  }
 },
 "nbformat": 4,
 "nbformat_minor": 2
}
