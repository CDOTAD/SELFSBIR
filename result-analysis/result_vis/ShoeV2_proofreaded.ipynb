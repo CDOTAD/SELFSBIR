{
 "cells": [
  {
   "cell_type": "code",
   "execution_count": 1,
   "metadata": {},
   "outputs": [],
   "source": [
    "import os"
   ]
  },
  {
   "cell_type": "code",
   "execution_count": 2,
   "metadata": {},
   "outputs": [],
   "source": [
    "DATA_ROOT = '/data1/zzl/dataset/ShoeV2/ShoeV2_F/'"
   ]
  },
  {
   "cell_type": "code",
   "execution_count": 3,
   "metadata": {},
   "outputs": [],
   "source": [
    "TRAIN_SET = os.path.join(DATA_ROOT, 'train', 'sketches')"
   ]
  },
  {
   "cell_type": "code",
   "execution_count": 4,
   "metadata": {},
   "outputs": [],
   "source": [
    "TEST_SET = os.path.join(DATA_ROOT, 'test', 'sketches')"
   ]
  },
  {
   "cell_type": "code",
   "execution_count": 21,
   "metadata": {},
   "outputs": [
    {
     "name": "stdout",
     "output_type": "stream",
     "text": [
      "exactly equal\n"
     ]
    }
   ],
   "source": [
    "with open(os.path.join(DATA_ROOT, 'sketch_test.txt'), 'r') as sketch_test:\n",
    "    count = 0\n",
    "    lines = sketch_test.readlines()\n",
    "    lines = list(map(lambda x: x.strip('\\n'), lines))\n",
    "    sketch_test_file = os.listdir(TEST_SET)\n",
    "    for s_file in sketch_test_file:\n",
    "        s_file = s_file.replace('png', 'svg')\n",
    "        if s_file not in lines:\n",
    "            print(s_file, 'not in test list')\n",
    "            count += 1\n",
    "    if len(lines) != len(sketch_test_file):\n",
    "        print('not equal')\n",
    "    else:\n",
    "        print('exactly equal')"
   ]
  },
  {
   "cell_type": "code",
   "execution_count": 22,
   "metadata": {},
   "outputs": [
    {
     "name": "stdout",
     "output_type": "stream",
     "text": [
      "exactly equal\n"
     ]
    }
   ],
   "source": [
    "with open(os.path.join(DATA_ROOT, 'sketch_train.txt'), 'r') as sketch_train:\n",
    "    lines = sketch_train.readlines()\n",
    "    lines = list(map(lambda x: x.strip('\\n'), lines))\n",
    "    sketch_train_file = os.listdir(TRAIN_SET)\n",
    "    for s_file in sketch_train_file:\n",
    "        s_file = s_file.replace('png', 'svg')\n",
    "        if s_file not in lines:\n",
    "            print(s_file, 'not in train list')\n",
    "    if len(lines) != len(sketch_train_file):\n",
    "        print('not equal')\n",
    "    else:\n",
    "        print('exactly equal')"
   ]
  },
  {
   "cell_type": "code",
   "execution_count": null,
   "metadata": {},
   "outputs": [],
   "source": []
  }
 ],
 "metadata": {
  "kernelspec": {
   "display_name": "Python 3",
   "language": "python",
   "name": "python3"
  },
  "language_info": {
   "codemirror_mode": {
    "name": "ipython",
    "version": 3
   },
   "file_extension": ".py",
   "mimetype": "text/x-python",
   "name": "python",
   "nbconvert_exporter": "python",
   "pygments_lexer": "ipython3",
   "version": "3.7.3"
  }
 },
 "nbformat": 4,
 "nbformat_minor": 2
}
